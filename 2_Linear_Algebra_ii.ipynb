{
  "nbformat": 4,
  "nbformat_minor": 0,
  "metadata": {
    "colab": {
      "provenance": [],
      "authorship_tag": "ABX9TyNUOjLfZxV9rr3uydjtn8Vp",
      "include_colab_link": true
    },
    "kernelspec": {
      "name": "python3",
      "display_name": "Python 3"
    },
    "language_info": {
      "name": "python"
    }
  },
  "cells": [
    {
      "cell_type": "markdown",
      "metadata": {
        "id": "view-in-github",
        "colab_type": "text"
      },
      "source": [
        "<a href=\"https://colab.research.google.com/github/msuganthan/Algorithms/blob/master/2_Linear_Algebra_ii.ipynb\" target=\"_parent\"><img src=\"https://colab.research.google.com/assets/colab-badge.svg\" alt=\"Open In Colab\"/></a>"
      ]
    },
    {
      "cell_type": "markdown",
      "source": [
        "Eigendecomposition\n",
        "\n",
        "Affine Transformation via Matrix Application"
      ],
      "metadata": {
        "id": "B723y4BbRJDp"
      }
    },
    {
      "cell_type": "code",
      "execution_count": 3,
      "metadata": {
        "id": "IMoHxUPz0LnC"
      },
      "outputs": [],
      "source": [
        "import numpy as np\n",
        "import torch"
      ]
    },
    {
      "cell_type": "code",
      "source": [
        "v = np.array([3, 1])\n",
        "v"
      ],
      "metadata": {
        "colab": {
          "base_uri": "https://localhost:8080/"
        },
        "id": "C_MuKg6T1LzS",
        "outputId": "12916a55-03b0-4065-cd99-0928bb15736f"
      },
      "execution_count": 4,
      "outputs": [
        {
          "output_type": "execute_result",
          "data": {
            "text/plain": [
              "array([3, 1])"
            ]
          },
          "metadata": {},
          "execution_count": 4
        }
      ]
    },
    {
      "cell_type": "code",
      "source": [
        "import matplotlib.pyplot as plt"
      ],
      "metadata": {
        "id": "j-bP1etW1TCq"
      },
      "execution_count": 5,
      "outputs": []
    },
    {
      "cell_type": "code",
      "source": [
        "def plot_vectors(vectors, colors):\n",
        "    plt.figure()\n",
        "    plt.axvline(x=0, color='lightgray')\n",
        "    plt.axhline(y=0, color='lightgray')\n",
        "\n",
        "    for i in range(len(vectors)):\n",
        "        x = np.concatenate([[0,0],vectors[i]])\n",
        "        plt.quiver([x[0]], [x[1]], [x[2]], [x[3]],\n",
        "                   angles='xy', scale_units='xy', scale=1, color=colors[i],)"
      ],
      "metadata": {
        "id": "FMPlnLa7SZfo"
      },
      "execution_count": 6,
      "outputs": []
    },
    {
      "cell_type": "code",
      "source": [
        "plot_vectors([v], ['lightblue'])\n",
        "plt.xlim(-1, 5)\n",
        "plt.ylim(-1, 5)"
      ],
      "metadata": {
        "colab": {
          "base_uri": "https://localhost:8080/",
          "height": 453
        },
        "id": "5lWdiv02TN2p",
        "outputId": "992082e1-232d-4799-d60e-f924a8d07bb5"
      },
      "execution_count": 7,
      "outputs": [
        {
          "output_type": "execute_result",
          "data": {
            "text/plain": [
              "(-1.0, 5.0)"
            ]
          },
          "metadata": {},
          "execution_count": 7
        },
        {
          "output_type": "display_data",
          "data": {
            "text/plain": [
              "<Figure size 640x480 with 1 Axes>"
            ],
            "image/png": "[encoded data removed]"
          },
          "metadata": {}
        }
      ]
    },
    {
      "cell_type": "markdown",
      "source": [
        "Appling a matrix to a vector can linearly transform the vector, e.g, rotate it or rescale it\n",
        "\n",
        "The identity matrix, is the exception that proves the rule: Applying an identity matrix does not transform the vector"
      ],
      "metadata": {
        "id": "tMcBADeKVLcN"
      }
    },
    {
      "cell_type": "code",
      "source": [
        "I = np.array([[1, 0], [0, 1]])\n",
        "I"
      ],
      "metadata": {
        "colab": {
          "base_uri": "https://localhost:8080/"
        },
        "id": "CpkgZi5gVh38",
        "outputId": "c4b258ed-b6a0-4cd2-b0ce-7d304c0390f6"
      },
      "execution_count": 8,
      "outputs": [
        {
          "output_type": "execute_result",
          "data": {
            "text/plain": [
              "array([[1, 0],\n",
              "       [0, 1]])"
            ]
          },
          "metadata": {},
          "execution_count": 8
        }
      ]
    },
    {
      "cell_type": "code",
      "source": [
        "Iv = np.dot(I, v)\n",
        "Iv"
      ],
      "metadata": {
        "colab": {
          "base_uri": "https://localhost:8080/"
        },
        "id": "yiBoyFOdVoLy",
        "outputId": "0bb403f5-90e6-4f84-b565-f4409eaff8d9"
      },
      "execution_count": 9,
      "outputs": [
        {
          "output_type": "execute_result",
          "data": {
            "text/plain": [
              "array([3, 1])"
            ]
          },
          "metadata": {},
          "execution_count": 9
        }
      ]
    },
    {
      "cell_type": "code",
      "source": [
        "v == Iv"
      ],
      "metadata": {
        "colab": {
          "base_uri": "https://localhost:8080/"
        },
        "id": "zxy4kxNOVtYC",
        "outputId": "8cad036e-68a2-4705-968a-0ea68e8c028e"
      },
      "execution_count": 10,
      "outputs": [
        {
          "output_type": "execute_result",
          "data": {
            "text/plain": [
              "array([ True,  True])"
            ]
          },
          "metadata": {},
          "execution_count": 10
        }
      ]
    },
    {
      "cell_type": "code",
      "source": [
        "plot_vectors([Iv], ['blue'])\n",
        "plt.xlim(-1, 5)\n",
        "plt.ylim(-1, 5)"
      ],
      "metadata": {
        "colab": {
          "base_uri": "https://localhost:8080/",
          "height": 453
        },
        "id": "gppdN8H8VySH",
        "outputId": "d5c20e52-f7f9-48eb-d6ec-dcbcc804c437"
      },
      "execution_count": 11,
      "outputs": [
        {
          "output_type": "execute_result",
          "data": {
            "text/plain": [
              "(-1.0, 5.0)"
            ]
          },
          "metadata": {},
          "execution_count": 11
        },
        {
          "output_type": "display_data",
          "data": {
            "text/plain": [
              "<Figure size 640x480 with 1 Axes>"
            ],
            "image/png": "[encoded data removed]"
          },
          "metadata": {}
        }
      ]
    },
    {
      "cell_type": "markdown",
      "source": [
        "In constrast, consider the matrix that flips vector over the x-axis"
      ],
      "metadata": {
        "id": "-aATo9zlV_ir"
      }
    },
    {
      "cell_type": "code",
      "source": [
        "E = np.array([[1, 0], [0, -1]])\n",
        "E"
      ],
      "metadata": {
        "colab": {
          "base_uri": "https://localhost:8080/"
        },
        "id": "C_9QCGFKWFLx",
        "outputId": "1bd72d97-5b41-4a99-ae5b-0051756f631f"
      },
      "execution_count": 12,
      "outputs": [
        {
          "output_type": "execute_result",
          "data": {
            "text/plain": [
              "array([[ 1,  0],\n",
              "       [ 0, -1]])"
            ]
          },
          "metadata": {},
          "execution_count": 12
        }
      ]
    },
    {
      "cell_type": "code",
      "source": [
        "Ev = np.dot(E, v)\n",
        "Ev"
      ],
      "metadata": {
        "colab": {
          "base_uri": "https://localhost:8080/"
        },
        "id": "hgDvxbUJWL-j",
        "outputId": "c594436f-1db1-46e5-8067-2f7830db992a"
      },
      "execution_count": 13,
      "outputs": [
        {
          "output_type": "execute_result",
          "data": {
            "text/plain": [
              "array([ 3, -1])"
            ]
          },
          "metadata": {},
          "execution_count": 13
        }
      ]
    },
    {
      "cell_type": "code",
      "source": [
        "plot_vectors([v, Ev], ['lightblue', 'blue'])\n",
        "plt.xlim(-1, 5)\n",
        "plt.ylim(-3, 3)"
      ],
      "metadata": {
        "colab": {
          "base_uri": "https://localhost:8080/",
          "height": 453
        },
        "id": "4jV8R0QRWRsm",
        "outputId": "5ffe0d6e-e1ca-4488-b54d-5cb7fec99d64"
      },
      "execution_count": 14,
      "outputs": [
        {
          "output_type": "execute_result",
          "data": {
            "text/plain": [
              "(-3.0, 3.0)"
            ]
          },
          "metadata": {},
          "execution_count": 14
        },
        {
          "output_type": "display_data",
          "data": {
            "text/plain": [
              "<Figure size 640x480 with 1 Axes>"
            ],
            "image/png": "[encoded data removed]"
          },
          "metadata": {}
        }
      ]
    },
    {
      "cell_type": "markdown",
      "source": [
        "Or, this matrix, F, which flips vectors over the y-axis"
      ],
      "metadata": {
        "id": "tQuOGO_qWgai"
      }
    },
    {
      "cell_type": "code",
      "source": [
        "F = np.array([[-1, 0], [0, 1]])\n",
        "F"
      ],
      "metadata": {
        "colab": {
          "base_uri": "https://localhost:8080/"
        },
        "id": "CNnIfhwaWfJ_",
        "outputId": "47d00370-ad9c-4488-d8f1-a75a9132cbf4"
      },
      "execution_count": 15,
      "outputs": [
        {
          "output_type": "execute_result",
          "data": {
            "text/plain": [
              "array([[-1,  0],\n",
              "       [ 0,  1]])"
            ]
          },
          "metadata": {},
          "execution_count": 15
        }
      ]
    },
    {
      "cell_type": "code",
      "source": [
        "Fv = np.dot(F, v)\n",
        "Fv"
      ],
      "metadata": {
        "colab": {
          "base_uri": "https://localhost:8080/"
        },
        "id": "AKoDBzo1Ws7c",
        "outputId": "b00cfd07-b455-4bee-ff77-251e1008acdc"
      },
      "execution_count": 16,
      "outputs": [
        {
          "output_type": "execute_result",
          "data": {
            "text/plain": [
              "array([-3,  1])"
            ]
          },
          "metadata": {},
          "execution_count": 16
        }
      ]
    },
    {
      "cell_type": "code",
      "source": [
        "plot_vectors([v, Fv], ['lightblue', 'blue'])\n",
        "plt.xlim(-4, 4)\n",
        "plt.ylim(-1, 5)"
      ],
      "metadata": {
        "colab": {
          "base_uri": "https://localhost:8080/",
          "height": 453
        },
        "id": "QBNkNLMiWyW3",
        "outputId": "7ffcc94d-e1d3-4926-d6f7-abedab754369"
      },
      "execution_count": 17,
      "outputs": [
        {
          "output_type": "execute_result",
          "data": {
            "text/plain": [
              "(-1.0, 5.0)"
            ]
          },
          "metadata": {},
          "execution_count": 17
        },
        {
          "output_type": "display_data",
          "data": {
            "text/plain": [
              "<Figure size 640x480 with 1 Axes>"
            ],
            "image/png": "[encoded data removed]"
          },
          "metadata": {}
        }
      ]
    },
    {
      "cell_type": "markdown",
      "source": [
        "Applying a flipping matrix is an example of **affline trandforamtion**: a change in geometry that may adjust distances or angles between vector, but preserves parallelism between them.\n",
        "\n",
        "In addition to flipping a matrix over an axis, other common affine transformation include:\n",
        "\n",
        "* Scaling\n",
        "* Shearing\n",
        "* Rotation\n",
        "\n",
        "A single matrix can apply multiple affine transforms simultaneously. As an example, let's see what happens when we apply this matrix A to the vector v:"
      ],
      "metadata": {
        "id": "Xi2g38K2X-H4"
      }
    },
    {
      "cell_type": "code",
      "source": [
        "A = np.array([[-1, 4], [2, -2]])\n",
        "A"
      ],
      "metadata": {
        "colab": {
          "base_uri": "https://localhost:8080/"
        },
        "id": "WkID9ZwCY5V1",
        "outputId": "ad88fb20-f79d-4e4e-b29b-b1a63bebf356"
      },
      "execution_count": 18,
      "outputs": [
        {
          "output_type": "execute_result",
          "data": {
            "text/plain": [
              "array([[-1,  4],\n",
              "       [ 2, -2]])"
            ]
          },
          "metadata": {},
          "execution_count": 18
        }
      ]
    },
    {
      "cell_type": "code",
      "source": [
        "Av = np.dot(A, v)\n",
        "Av"
      ],
      "metadata": {
        "colab": {
          "base_uri": "https://localhost:8080/"
        },
        "id": "UN9Jx99qZAQO",
        "outputId": "ea2f2ef1-c467-4bf4-d2b4-95e5b389f374"
      },
      "execution_count": 19,
      "outputs": [
        {
          "output_type": "execute_result",
          "data": {
            "text/plain": [
              "array([1, 4])"
            ]
          },
          "metadata": {},
          "execution_count": 19
        }
      ]
    },
    {
      "cell_type": "code",
      "source": [
        "plot_vectors([v, Av], ['lightblue', 'blue'])\n",
        "plt.xlim(-1, 5)\n",
        "plt.ylim(-1, 5)"
      ],
      "metadata": {
        "colab": {
          "base_uri": "https://localhost:8080/",
          "height": 453
        },
        "id": "T5MwAXD3ZM1N",
        "outputId": "7b9727c4-cfaf-41a8-d206-0dc2bb038495"
      },
      "execution_count": 20,
      "outputs": [
        {
          "output_type": "execute_result",
          "data": {
            "text/plain": [
              "(-1.0, 5.0)"
            ]
          },
          "metadata": {},
          "execution_count": 20
        },
        {
          "output_type": "display_data",
          "data": {
            "text/plain": [
              "<Figure size 640x480 with 1 Axes>"
            ],
            "image/png": "[encoded data removed]"
          },
          "metadata": {}
        }
      ]
    },
    {
      "cell_type": "code",
      "source": [
        "v2 = np.array([2, 1])\n",
        "plot_vectors([v2, np.dot(A, v2)], ['lightgreen', 'green'])\n",
        "plt.xlim(-1, 5)\n",
        "plt.ylim(-1, 5)"
      ],
      "metadata": {
        "colab": {
          "base_uri": "https://localhost:8080/",
          "height": 453
        },
        "id": "ev-GCKb6ZSdW",
        "outputId": "df3c1613-b194-4f7b-d966-0285fd60730b"
      },
      "execution_count": 21,
      "outputs": [
        {
          "output_type": "execute_result",
          "data": {
            "text/plain": [
              "(-1.0, 5.0)"
            ]
          },
          "metadata": {},
          "execution_count": 21
        },
        {
          "output_type": "display_data",
          "data": {
            "text/plain": [
              "<Figure size 640x480 with 1 Axes>"
            ],
            "image/png": "[encoded data removed]"
          },
          "metadata": {}
        }
      ]
    },
    {
      "cell_type": "markdown",
      "source": [
        "We can concatenate several vectors together into a matrix(V) where each column is a separate vector. Then, whatever linear transformations we apply to V will be independently applied to each column(vector):"
      ],
      "metadata": {
        "id": "3jGPvCsKZX70"
      }
    },
    {
      "cell_type": "code",
      "source": [
        "v"
      ],
      "metadata": {
        "colab": {
          "base_uri": "https://localhost:8080/"
        },
        "id": "vcYS_xnWZyd-",
        "outputId": "fceb27fe-3d8d-49de-bfd2-6dbce4c6b05a"
      },
      "execution_count": 22,
      "outputs": [
        {
          "output_type": "execute_result",
          "data": {
            "text/plain": [
              "array([3, 1])"
            ]
          },
          "metadata": {},
          "execution_count": 22
        }
      ]
    },
    {
      "cell_type": "code",
      "source": [
        "np.matrix(v).T"
      ],
      "metadata": {
        "colab": {
          "base_uri": "https://localhost:8080/"
        },
        "id": "wuDBXlbsZ1yX",
        "outputId": "6a6ef339-af5b-4962-ff7d-b87861de0541"
      },
      "execution_count": 23,
      "outputs": [
        {
          "output_type": "execute_result",
          "data": {
            "text/plain": [
              "matrix([[3],\n",
              "        [1]])"
            ]
          },
          "metadata": {},
          "execution_count": 23
        }
      ]
    },
    {
      "cell_type": "code",
      "source": [
        "v3 = np.array([-3, -1])\n",
        "v4 = np.array([-1, 1])"
      ],
      "metadata": {
        "id": "Pe_eDWXrZ4IO"
      },
      "execution_count": 24,
      "outputs": []
    },
    {
      "cell_type": "code",
      "source": [
        "V = np.concatenate((\n",
        "    np.matrix(v).T,\n",
        "    np.matrix(v2).T,\n",
        "    np.matrix(v3).T,\n",
        "    np.matrix(v4).T\n",
        "), axis = 1)\n",
        "V"
      ],
      "metadata": {
        "colab": {
          "base_uri": "https://localhost:8080/"
        },
        "id": "yzcOPqJndJGK",
        "outputId": "75cca9da-f266-4b7a-8b57-4c62fa024e56"
      },
      "execution_count": 25,
      "outputs": [
        {
          "output_type": "execute_result",
          "data": {
            "text/plain": [
              "matrix([[ 3,  2, -3, -1],\n",
              "        [ 1,  1, -1,  1]])"
            ]
          },
          "metadata": {},
          "execution_count": 25
        }
      ]
    },
    {
      "cell_type": "code",
      "source": [
        "IV = np.dot(I, V)\n",
        "IV"
      ],
      "metadata": {
        "colab": {
          "base_uri": "https://localhost:8080/"
        },
        "id": "yTJiZ4OCeGKN",
        "outputId": "2ec92962-88ca-4df3-b2b5-c594d6da1648"
      },
      "execution_count": 26,
      "outputs": [
        {
          "output_type": "execute_result",
          "data": {
            "text/plain": [
              "matrix([[ 3,  2, -3, -1],\n",
              "        [ 1,  1, -1,  1]])"
            ]
          },
          "metadata": {},
          "execution_count": 26
        }
      ]
    },
    {
      "cell_type": "code",
      "source": [
        "AV = np.dot(A, V)\n",
        "AV"
      ],
      "metadata": {
        "colab": {
          "base_uri": "https://localhost:8080/"
        },
        "id": "8HcTNdHOeRYi",
        "outputId": "b9361a22-7877-4c9e-e37d-dc5d6bec69dd"
      },
      "execution_count": 27,
      "outputs": [
        {
          "output_type": "execute_result",
          "data": {
            "text/plain": [
              "matrix([[ 1,  2, -1,  5],\n",
              "        [ 4,  2, -4, -4]])"
            ]
          },
          "metadata": {},
          "execution_count": 27
        }
      ]
    },
    {
      "cell_type": "code",
      "source": [
        "def vectorfy(mtrx, clmn):\n",
        "  return np.array(mtrx[:, clmn]).reshape(-1)"
      ],
      "metadata": {
        "id": "lfYOjj_veWmb"
      },
      "execution_count": 28,
      "outputs": []
    },
    {
      "cell_type": "code",
      "source": [
        "vectorfy(V, 0)"
      ],
      "metadata": {
        "colab": {
          "base_uri": "https://localhost:8080/"
        },
        "id": "1GXIhC8behxB",
        "outputId": "db00be6e-8105-4f00-d0dd-64f82c74e9b4"
      },
      "execution_count": 29,
      "outputs": [
        {
          "output_type": "execute_result",
          "data": {
            "text/plain": [
              "array([3, 1])"
            ]
          },
          "metadata": {},
          "execution_count": 29
        }
      ]
    },
    {
      "cell_type": "code",
      "source": [
        "vectorfy(V, 0) == v\n"
      ],
      "metadata": {
        "colab": {
          "base_uri": "https://localhost:8080/"
        },
        "id": "iWoFJTwremf9",
        "outputId": "523f45c4-cc2b-4733-fbe1-00b948f634ef"
      },
      "execution_count": 30,
      "outputs": [
        {
          "output_type": "execute_result",
          "data": {
            "text/plain": [
              "array([ True,  True])"
            ]
          },
          "metadata": {},
          "execution_count": 30
        }
      ]
    },
    {
      "cell_type": "code",
      "source": [
        "plot_vectors([vectorfy(V, 0), vectorfy(V, 1), vectorfy(V, 2), vectorfy(V, 3),\n",
        "             vectorfy(AV, 0), vectorfy(AV, 1), vectorfy(AV, 2), vectorfy(AV, 3)],\n",
        "            ['lightblue', 'lightgreen', 'lightgray', 'orange',\n",
        "             'blue', 'green', 'gray', 'red'])\n",
        "plt.xlim(-4, 6)\n",
        "plt.ylim(-5, 5)"
      ],
      "metadata": {
        "colab": {
          "base_uri": "https://localhost:8080/",
          "height": 448
        },
        "id": "Z4JriDlMfDF6",
        "outputId": "c068a1e1-4268-48a4-a016-bbd34e8b3591"
      },
      "execution_count": 31,
      "outputs": [
        {
          "output_type": "execute_result",
          "data": {
            "text/plain": [
              "(-5.0, 5.0)"
            ]
          },
          "metadata": {},
          "execution_count": 31
        },
        {
          "output_type": "display_data",
          "data": {
            "text/plain": [
              "<Figure size 640x480 with 1 Axes>"
            ],
            "image/png": "[encoded data removed]"
          },
          "metadata": {}
        }
      ]
    },
    {
      "cell_type": "markdown",
      "source": [
        "Eigenvectors and Eigenvalues\n",
        "\n",
        "An eigenvector is a special vector `v` such that when it is transformed by some matrix(A), the product `Av` has the same direction as `v`.\n",
        "\n",
        "An eigenvalue is a scalar that simply scales the eigenvector `v` such that the following equation is satisfied:\n",
        "\n",
        "Av = λv\n"
      ],
      "metadata": {
        "id": "kOGlZEgbQu7L"
      }
    },
    {
      "cell_type": "code",
      "source": [
        "A = np.array([[-1, 4], [2, -2]])\n",
        "A"
      ],
      "metadata": {
        "colab": {
          "base_uri": "https://localhost:8080/"
        },
        "id": "u0YmmuS1YjhI",
        "outputId": "0a022b4b-1332-4b6a-f0f7-8819cd716175"
      },
      "execution_count": 32,
      "outputs": [
        {
          "output_type": "execute_result",
          "data": {
            "text/plain": [
              "array([[-1,  4],\n",
              "       [ 2, -2]])"
            ]
          },
          "metadata": {},
          "execution_count": 32
        }
      ]
    },
    {
      "cell_type": "markdown",
      "source": [
        "To get the eigen value and vector we use `eig()` method, which returns a tuple of:\n",
        "\n",
        "* a vector of eigenvalues\n",
        "* a vector of eigenvectors"
      ],
      "metadata": {
        "id": "Yc1FQGCPZYYF"
      }
    },
    {
      "cell_type": "code",
      "source": [
        "lambdas, V = np.linalg.eig(A)"
      ],
      "metadata": {
        "id": "eWouS1AcZraO"
      },
      "execution_count": 33,
      "outputs": []
    },
    {
      "cell_type": "code",
      "source": [
        "V #each column is a separate eigen vector v"
      ],
      "metadata": {
        "colab": {
          "base_uri": "https://localhost:8080/"
        },
        "id": "nMQWALKXZy3z",
        "outputId": "70c81cf0-47c2-45fa-dadc-aa3dfdb4ac2f"
      },
      "execution_count": 34,
      "outputs": [
        {
          "output_type": "execute_result",
          "data": {
            "text/plain": [
              "array([[ 0.86011126, -0.76454754],\n",
              "       [ 0.51010647,  0.64456735]])"
            ]
          },
          "metadata": {},
          "execution_count": 34
        }
      ]
    },
    {
      "cell_type": "code",
      "source": [
        "lambdas"
      ],
      "metadata": {
        "colab": {
          "base_uri": "https://localhost:8080/"
        },
        "id": "hPPNP-NLZ-wc",
        "outputId": "09463acd-c3cc-4d7d-a873-72cb472f6ddc"
      },
      "execution_count": 36,
      "outputs": [
        {
          "output_type": "execute_result",
          "data": {
            "text/plain": [
              "array([ 1.37228132, -4.37228132])"
            ]
          },
          "metadata": {},
          "execution_count": 36
        }
      ]
    },
    {
      "cell_type": "code",
      "source": [
        "v = V[:,0]\n",
        "v"
      ],
      "metadata": {
        "colab": {
          "base_uri": "https://localhost:8080/"
        },
        "id": "RbjV0l_-aLu6",
        "outputId": "2a8d9a57-cbba-401b-a922-4192e26e5df2"
      },
      "execution_count": 38,
      "outputs": [
        {
          "output_type": "execute_result",
          "data": {
            "text/plain": [
              "array([0.86011126, 0.51010647])"
            ]
          },
          "metadata": {},
          "execution_count": 38
        }
      ]
    },
    {
      "cell_type": "code",
      "source": [
        "lambduh = lambdas[0]\n",
        "lambduh"
      ],
      "metadata": {
        "colab": {
          "base_uri": "https://localhost:8080/"
        },
        "id": "rsF88JT_aTRd",
        "outputId": "bddbe766-903d-481c-afc7-c4f356f62326"
      },
      "execution_count": 39,
      "outputs": [
        {
          "output_type": "execute_result",
          "data": {
            "text/plain": [
              "1.3722813232690143"
            ]
          },
          "metadata": {},
          "execution_count": 39
        }
      ]
    },
    {
      "cell_type": "code",
      "source": [
        "Av = np.dot(A, v)\n",
        "Av"
      ],
      "metadata": {
        "colab": {
          "base_uri": "https://localhost:8080/"
        },
        "id": "M8vnE-XHadAh",
        "outputId": "1b941115-55d1-4577-afbc-e4f0d4d9eaf3"
      },
      "execution_count": 40,
      "outputs": [
        {
          "output_type": "execute_result",
          "data": {
            "text/plain": [
              "array([1.18031462, 0.70000958])"
            ]
          },
          "metadata": {},
          "execution_count": 40
        }
      ]
    },
    {
      "cell_type": "code",
      "source": [
        "lambduh * v"
      ],
      "metadata": {
        "colab": {
          "base_uri": "https://localhost:8080/"
        },
        "id": "xAyXhPlDa0vI",
        "outputId": "18178163-03ca-48f7-9728-5e5e0ab0ccc0"
      },
      "execution_count": 41,
      "outputs": [
        {
          "output_type": "execute_result",
          "data": {
            "text/plain": [
              "array([1.18031462, 0.70000958])"
            ]
          },
          "metadata": {},
          "execution_count": 41
        }
      ]
    },
    {
      "cell_type": "code",
      "source": [
        "plot_vectors([Av, v], ['blue', 'lightblue'])\n",
        "plt.xlim(-1, 2)\n",
        "plt.ylim(-1, 2)"
      ],
      "metadata": {
        "colab": {
          "base_uri": "https://localhost:8080/",
          "height": 453
        },
        "id": "0eW89D1Ta5Ht",
        "outputId": "8a10dc4c-642d-4ea5-adbc-dc95f58f97c3"
      },
      "execution_count": 42,
      "outputs": [
        {
          "output_type": "execute_result",
          "data": {
            "text/plain": [
              "(-1.0, 2.0)"
            ]
          },
          "metadata": {},
          "execution_count": 42
        },
        {
          "output_type": "display_data",
          "data": {
            "text/plain": [
              "<Figure size 640x480 with 1 Axes>"
            ],
            "image/png": "[encoded data removed]"
          },
          "metadata": {}
        }
      ]
    },
    {
      "cell_type": "code",
      "source": [
        "v2 = V[:,1]\n",
        "v2"
      ],
      "metadata": {
        "colab": {
          "base_uri": "https://localhost:8080/"
        },
        "id": "6ucvfNawbEHO",
        "outputId": "9adfdf9e-056a-4396-b9f7-e27564b05c0f"
      },
      "execution_count": 43,
      "outputs": [
        {
          "output_type": "execute_result",
          "data": {
            "text/plain": [
              "array([-0.76454754,  0.64456735])"
            ]
          },
          "metadata": {},
          "execution_count": 43
        }
      ]
    },
    {
      "cell_type": "code",
      "source": [
        "lambda2 = lambdas[1]\n",
        "lambda2"
      ],
      "metadata": {
        "colab": {
          "base_uri": "https://localhost:8080/"
        },
        "id": "bKmejOI9bGjp",
        "outputId": "32a9e153-ea00-47f6-ae16-3c2caa874527"
      },
      "execution_count": 44,
      "outputs": [
        {
          "output_type": "execute_result",
          "data": {
            "text/plain": [
              "-4.372281323269014"
            ]
          },
          "metadata": {},
          "execution_count": 44
        }
      ]
    },
    {
      "cell_type": "code",
      "source": [
        "Av2 = np.dot(A, v2)\n",
        "Av2"
      ],
      "metadata": {
        "colab": {
          "base_uri": "https://localhost:8080/"
        },
        "id": "JdgOuh0gbIq3",
        "outputId": "93253742-19fc-48d6-cd22-24e23a9ef1fd"
      },
      "execution_count": 45,
      "outputs": [
        {
          "output_type": "execute_result",
          "data": {
            "text/plain": [
              "array([ 3.34281692, -2.81822977])"
            ]
          },
          "metadata": {},
          "execution_count": 45
        }
      ]
    },
    {
      "cell_type": "code",
      "source": [
        "lambda2 * v2"
      ],
      "metadata": {
        "colab": {
          "base_uri": "https://localhost:8080/"
        },
        "id": "mSjq1CxzbKuE",
        "outputId": "b5c200e5-b7ad-41c6-ef03-5ea1f4a97a2b"
      },
      "execution_count": 46,
      "outputs": [
        {
          "output_type": "execute_result",
          "data": {
            "text/plain": [
              "array([ 3.34281692, -2.81822977])"
            ]
          },
          "metadata": {},
          "execution_count": 46
        }
      ]
    },
    {
      "cell_type": "code",
      "source": [
        "plot_vectors([Av, v, Av2, v2],\n",
        "            ['blue', 'lightblue', 'green', 'lightgreen'])\n",
        "plt.xlim(-1, 4)\n",
        "plt.ylim(-3, 2)"
      ],
      "metadata": {
        "colab": {
          "base_uri": "https://localhost:8080/",
          "height": 453
        },
        "id": "hMooCeYybLRX",
        "outputId": "80afe378-fb3f-4633-f4a9-3da2f1ad9084"
      },
      "execution_count": 47,
      "outputs": [
        {
          "output_type": "execute_result",
          "data": {
            "text/plain": [
              "(-3.0, 2.0)"
            ]
          },
          "metadata": {},
          "execution_count": 47
        },
        {
          "output_type": "display_data",
          "data": {
            "text/plain": [
              "<Figure size 640x480 with 1 Axes>"
            ],
            "image/png": "[encoded data removed]"
          },
          "metadata": {}
        }
      ]
    }
  ]
}